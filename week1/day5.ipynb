{
 "cells": [
  {
   "cell_type": "markdown",
   "id": "a98030af-fcd1-4d63-a36e-38ba053498fa",
   "metadata": {},
   "source": [
    "# A full business solution\n",
    "\n",
    "## Now we will take our project from Day 1 to the next level\n",
    "\n",
    "### BUSINESS CHALLENGE:\n",
    "\n",
    "Create a product that builds a Brochure for a company to be used for prospective clients, investors and potential recruits.\n",
    "\n",
    "We will be provided a company name and their primary website.\n",
    "\n",
    "See the end of this notebook for examples of real-world business applications.\n",
    "\n",
    "And remember: I'm always available if you have problems or ideas! Please do reach out."
   ]
  },
  {
   "cell_type": "code",
   "execution_count": 1,
   "id": "d5b08506-dc8b-4443-9201-5f1848161363",
   "metadata": {},
   "outputs": [],
   "source": [
    "# imports\n",
    "# If these fail, please check you're running from an 'activated' environment with (llms) in the command prompt\n",
    "\n",
    "import os\n",
    "import requests\n",
    "import json\n",
    "from typing import List\n",
    "from dotenv import load_dotenv\n",
    "from bs4 import BeautifulSoup\n",
    "from IPython.display import Markdown, display, update_display\n",
    "from openai import OpenAI"
   ]
  },
  {
   "cell_type": "code",
   "execution_count": 2,
   "id": "fc5d8880-f2ee-4c06-af16-ecbc0262af61",
   "metadata": {},
   "outputs": [
    {
     "name": "stdout",
     "output_type": "stream",
     "text": [
      "API key looks good so far\n"
     ]
    }
   ],
   "source": [
    "# Initialize and constants\n",
    "\n",
    "load_dotenv(override=True)\n",
    "api_key = os.getenv('OPENAI_API_KEY')\n",
    "\n",
    "if api_key and api_key.startswith('sk-proj-') and len(api_key)>10:\n",
    "    print(\"API key looks good so far\")\n",
    "else:\n",
    "    print(\"There might be a problem with your API key? Please visit the troubleshooting notebook!\")\n",
    "    \n",
    "MODEL = 'gpt-4o-mini'\n",
    "openai = OpenAI()"
   ]
  },
  {
   "cell_type": "code",
   "execution_count": 3,
   "id": "106dd65e-90af-4ca8-86b6-23a41840645b",
   "metadata": {},
   "outputs": [],
   "source": [
    "# A class to represent a Webpage\n",
    "\n",
    "# Some websites need you to use proper headers when fetching them:\n",
    "headers = {\n",
    " \"User-Agent\": \"Mozilla/5.0 (Windows NT 10.0; Win64; x64) AppleWebKit/537.36 (KHTML, like Gecko) Chrome/117.0.0.0 Safari/537.36\"\n",
    "}\n",
    "\n",
    "class Website:\n",
    "    \"\"\"\n",
    "    A utility class to represent a Website that we have scraped, now with links\n",
    "    \"\"\"\n",
    "\n",
    "    def __init__(self, url):\n",
    "        self.url = url\n",
    "        response = requests.get(url, headers=headers)\n",
    "        self.body = response.content\n",
    "        soup = BeautifulSoup(self.body, 'html.parser')\n",
    "        self.title = soup.title.string if soup.title else \"No title found\"\n",
    "        if soup.body:\n",
    "            for irrelevant in soup.body([\"script\", \"style\", \"img\", \"input\"]):\n",
    "                irrelevant.decompose()\n",
    "            self.text = soup.body.get_text(separator=\"\\n\", strip=True)\n",
    "        else:\n",
    "            self.text = \"\"\n",
    "        links = [link.get('href') for link in soup.find_all('a')]\n",
    "        self.links = [link for link in links if link]\n",
    "\n",
    "    def get_contents(self):\n",
    "        return f\"Webpage Title:\\n{self.title}\\nWebpage Contents:\\n{self.text}\\n\\n\""
   ]
  },
  {
   "cell_type": "code",
   "execution_count": 8,
   "id": "e30d8128-933b-44cc-81c8-ab4c9d86589a",
   "metadata": {},
   "outputs": [
    {
     "name": "stdout",
     "output_type": "stream",
     "text": [
      "Webpage Title:\n",
      "biomundo\n",
      "Webpage Contents:\n",
      "Home\n",
      "Quem Somos\n",
      "Blog\n",
      "Nossas lojas\n",
      "Seja um franqueado\n",
      "Notícias\n",
      "Trabalhe Conosco\n",
      "Contato\n",
      "Produtos Exclusivos\n",
      "Bio+\n",
      "Menu\n",
      "Home\n",
      "Quem Somos\n",
      "Blog\n",
      "Nossas lojas\n",
      "Seja um franqueado\n",
      "Notícias\n",
      "Trabalhe Conosco\n",
      "Contato\n",
      "Produtos Exclusivos\n",
      "Bio+\n",
      "Facebook\n",
      "Instagram\n",
      "Youtube\n",
      "A loja de\n",
      "produtos naturais\n",
      "mais completa\n",
      "do Brasil\n",
      "A Loja com o mix\n",
      "mais completo e variado\n",
      "do país\n",
      "Produtos a granel\n",
      "Temperos, grãos, farinhas, castanhas, chás e diversos outros produtos naturais que garantem uma alimentação saudável e equilibrada.\n",
      "Produtos naturais\n",
      "Catálogo completo com produtos diet, light, integrais, orgânicos, funcionais, sem glúten, sem lactose, veganos e vegetarianos, refrigerados, congelados e apícolas.\n",
      "Nutrição esportiva\n",
      "É praticante de atividade física? Aqui na Bio Mundo você encontra todos os suplementos esportivos para melhorar a performance, emagrecimento ou hipertrofia.\n",
      "Saúde bem estar para sua vida\n",
      "Fundada por Edmar Mothé, que possui mais de 40 anos de experiência no varejo, a Rede de lojas Bio Mundo opera no segmento de produtos naturais e está presente em 22 estados mais o DF. A empresa promove saúde e bem estar oferecendo o mix de produtos mais completo do Brasil, incluindo produtos diet, light, integrais, veganos, funcionais, sem glúten, sem lactose e suplementos vitamínicos e esportivos.\n",
      "Sua escolha\n",
      "natural\n",
      "Todas as lojas, estabelecidas em locais de fácil acesso, oferecem design único e sofisticado, sendo planejadas para fácil localização dos produtos e para uma boa circulação de pessoas. Em busca de preservar nosso planeta, utilizamos somente papéis reciclados, sacolas biodegradáveis e lâmpadas de LED. Da mesma forma, nossos granéis nos oferecem a possibilidade de redução do uso de embalagens.\n",
      "A inovação da empresa está em sua oferta a granel, que soma mais de 300 produtos frescos e selecionados, como: castanhas, farinhas, temperos, adoçantes, chás, grãos, frutas desidratadas, dentre outros. O cliente pode experimentar os produtos e comprar apenas a quantidade que deseja consumir, tornando a experiência mais positiva, sustentável e econômica, gerando menos desperdícios.\n",
      "A inovação da empresa está em sua oferta a granel, que soma mais de 300 produtos frescos e selecionados, como: castanhas, farinhas, temperos, adoçantes, chás, grãos, frutas desidratadas, dentre outros. O cliente pode experimentar os produtos e comprar apenas a quantidade que deseja consumir, tornando a experiência mais positiva, sustentável e econômica, gerando menos desperdícios.\n",
      "+\n",
      "0\n",
      "Lojas\n",
      "0\n",
      "Estados brasileiros\n",
      "+\n",
      "0\n",
      "k\n",
      "Produtos\n",
      "Todos os atendentes dessa franquia são pessoas excepcionais,destaco o Henrique da loja do conjunto nacional,ótimo atendimento e conhecimento dos produtos.\n",
      "Carlos Alencar Gomes\n",
      "Variedade.\n",
      "Qualidade e preço acessível a todos. \n",
      "Existe muita gente vendendo produtos naturais a preços acima do normal. \n",
      "Vemos a bio mundo entre aqueles que não agridem o bolso dos seus clientes.\n",
      "Marpen Breeze\n",
      "Excelente loja. Possui muitos produtos para quem busca uma vida saudável!\n",
      "Luciana Lindgren\n",
      "Previous\n",
      "Next\n",
      "Produtos Bio Mundo\n",
      "Bioway\n",
      "Bio365\n",
      "Natureza MIX\n",
      "Mais de 300 produtos a granel:\n",
      "chás, temperos, farinhas, castanhas, chocolates funcionais, grãos, sementes,\n",
      "frutas\n",
      "desidratadas e snacks saudáveis.\n",
      "Bio 365 – Vitamina D3\n",
      "Bio 365 – Vitamina D3\n",
      "MISSÃO\n",
      "Ajudar as pessoas a serem mais felizes sendo mais saudáveis.\n",
      "VISÃO\n",
      "Ser a maior e mais rentável rede de lojas do segmento de alimentação saudável no Brasil.\n",
      "VALORES\n",
      "– DNA de vendas\n",
      "– Foco nos resultados\n",
      "– Pioneirismo e inovação em produtos\n",
      "– Resolutividade com nossos clientes e franqueados\n",
      "– Incentivar uma vida saudável a todos\n",
      "Bio Mundo\n",
      "na mídia\n",
      "Parque da Jaqueira ganha unidade Bio Mundo em projeto de expansão que aporta na área com nova loja em Pernambuco\n",
      "Leia Mais\n",
      "rafael\n",
      "maio 6, 2024\n",
      "Shopping Downtown: Segurança do setor de franquias atrai pais e filhos que desejam empreender juntos\n",
      "Leia Mais\n",
      "rafael\n",
      "maio 6, 2024\n",
      "Teresina se destaca no mercado de franquias e ganha 1ª loja da rede Bio Mundo\n",
      "Leia Mais\n",
      "rafael\n",
      "maio 6, 2024\n",
      "Bio Mundo abre  1ª loja em São Roque\n",
      "Leia Mais\n",
      "rafael\n",
      "maio 6, 2024\n",
      "O vendedor de porta a porta que fundou a Bio Mundo e fatura R$ 200 milhões\n",
      "Leia Mais\n",
      "rafael\n",
      "abril 30, 2024\n",
      "Contato\n",
      "Se você precisa de mais informações, tirar alguma dúvida ou oferecer seu feedback ou sugestão, entre em contato conosco:\n",
      "Assessoria de imprensa:  claudiacristina@clacri.com, midia@clacri.com\n",
      "Área de compras:  compras@biomundo.com.br\n",
      "marketing@biomundo.com.br\n",
      "SAC Bio Mundo : (61) 9648-6911\n",
      "Menu\n",
      "Sobre nós\n",
      "Contato\n",
      "Franquias\n",
      "Nossas Lojas\n",
      "Trabalhe conosco\n",
      "Política de privacidade\n",
      "\n",
      "\n"
     ]
    },
    {
     "data": {
      "text/plain": [
       "['https://biomundo.com.br/',\n",
       " 'https://biomundo.com.br/#quem',\n",
       " 'https://biomundo.com.br/index.php/blog-2/',\n",
       " 'https://biomundo.com.br/index.php/minhas-lojas/',\n",
       " 'https://pages.biomundo.com.br/',\n",
       " 'https://biomundo.com.br/#noticias',\n",
       " 'https://biomundo.empregare.com/pt-br/vagas',\n",
       " 'https://biomundo.com.br/#contato',\n",
       " 'https://biomundo.com.br/#produtos',\n",
       " 'https://biomundo.com.br/',\n",
       " 'https://biomundo.com.br/#quem',\n",
       " 'https://biomundo.com.br/index.php/blog-2/',\n",
       " 'https://biomundo.com.br/index.php/minhas-lojas/',\n",
       " 'https://pages.biomundo.com.br/',\n",
       " 'https://biomundo.com.br/#noticias',\n",
       " 'https://biomundo.empregare.com/pt-br/vagas',\n",
       " 'https://biomundo.com.br/#contato',\n",
       " 'https://biomundo.com.br/#produtos',\n",
       " 'https://www.facebook.com/lojabiomundo',\n",
       " 'https://www.instagram.com/lojabiomundo/',\n",
       " 'https://www.youtube.com/channel/UCRJRHIkKiWvXKZrtFnAO6Pg',\n",
       " 'https://biomundo.com.br/index.php/bioway/',\n",
       " 'https://biomundo.com.br/index.php/bioway/',\n",
       " 'https://biomundo.com.br/index.php/bio365-2/',\n",
       " 'https://biomundo.com.br/index.php/bio365-2/',\n",
       " 'https://biomundo.com.br/index.php/natureza-mix/',\n",
       " 'https://biomundo.com.br/index.php/natureza-mix/',\n",
       " 'https://biomundo.com.br/index.php/2024/05/06/praca-da-jaqueira-ganha-unidade-bio-mundo-em-projeto-de-expansao-que-aporta-na-area-com-nova-loja-em-pernambuco/',\n",
       " 'https://biomundo.com.br/index.php/2024/05/06/praca-da-jaqueira-ganha-unidade-bio-mundo-em-projeto-de-expansao-que-aporta-na-area-com-nova-loja-em-pernambuco/',\n",
       " 'https://biomundo.com.br/index.php/2024/05/06/shopping-downtown-seguranca-do-setor-de-franquias-atrai-pais-e-filhos-que-desejam-empreender-juntos/',\n",
       " 'https://biomundo.com.br/index.php/2024/05/06/shopping-downtown-seguranca-do-setor-de-franquias-atrai-pais-e-filhos-que-desejam-empreender-juntos/',\n",
       " 'https://biomundo.com.br/index.php/2024/05/06/teresina-se-destaca-no-mercado-de-franquias-e-ganha-1a-loja-da-rede-bio-mundo/',\n",
       " 'https://biomundo.com.br/index.php/2024/05/06/teresina-se-destaca-no-mercado-de-franquias-e-ganha-1a-loja-da-rede-bio-mundo/',\n",
       " 'https://biomundo.com.br/index.php/2024/05/06/bio-mundo-abre-1a-loja-em-sao-roque/',\n",
       " 'https://biomundo.com.br/index.php/2024/05/06/bio-mundo-abre-1a-loja-em-sao-roque/',\n",
       " 'https://biomundo.com.br/index.php/2024/04/30/o-vendedor-de-porta-a-porta-que-fundou-a-bio-mundo-e-fatura-r-200-milhoes/',\n",
       " 'https://biomundo.com.br/index.php/2024/04/30/o-vendedor-de-porta-a-porta-que-fundou-a-bio-mundo-e-fatura-r-200-milhoes/']"
      ]
     },
     "execution_count": 8,
     "metadata": {},
     "output_type": "execute_result"
    }
   ],
   "source": [
    "ed = Website(\"https://biomundo.com.br\")\n",
    "print(ed.get_contents())\n",
    "ed.links"
   ]
  },
  {
   "cell_type": "markdown",
   "id": "1771af9c-717a-4fca-bbbe-8a95893312c3",
   "metadata": {},
   "source": [
    "## First step: Have GPT-4o-mini figure out which links are relevant\n",
    "\n",
    "### Use a call to gpt-4o-mini to read the links on a webpage, and respond in structured JSON.  \n",
    "It should decide which links are relevant, and replace relative links such as \"/about\" with \"https://company.com/about\".  \n",
    "We will use \"one shot prompting\" in which we provide an example of how it should respond in the prompt.\n",
    "\n",
    "This is an excellent use case for an LLM, because it requires nuanced understanding. Imagine trying to code this without LLMs by parsing and analyzing the webpage - it would be very hard!\n",
    "\n",
    "Sidenote: there is a more advanced technique called \"Structured Outputs\" in which we require the model to respond according to a spec. We cover this technique in Week 8 during our autonomous Agentic AI project."
   ]
  },
  {
   "cell_type": "code",
   "execution_count": null,
   "id": "6957b079-0d96-45f7-a26a-3487510e9b35",
   "metadata": {},
   "outputs": [],
   "source": [
    "link_system_prompt = \"You are provided with a list of links found on a webpage. \\\n",
    "You are able to decide which of the links would be most relevant to include in a brochure about the company, \\\n",
    "such as links to an About page, or a Company page, or Careers/Jobs pages.\\n\"\n",
    "link_system_prompt += \"You should respond in JSON as in this example:\"\n",
    "link_system_prompt += \"\"\"\n",
    "{\n",
    "    \"links\": [\n",
    "        {\"type\": \"about page\", \"url\": \"https://full.url/goes/here/about\"},\n",
    "        {\"type\": \"careers page\": \"url\": \"https://another.full.url/careers\"}\n",
    "    ]\n",
    "}\n",
    "\"\"\""
   ]
  },
  {
   "cell_type": "code",
   "execution_count": null,
   "id": "b97e4068-97ed-4120-beae-c42105e4d59a",
   "metadata": {},
   "outputs": [],
   "source": [
    "print(link_system_prompt)"
   ]
  },
  {
   "cell_type": "code",
   "execution_count": null,
   "id": "8e1f601b-2eaf-499d-b6b8-c99050c9d6b3",
   "metadata": {},
   "outputs": [],
   "source": [
    "def get_links_user_prompt(website):\n",
    "    user_prompt = f\"Here is the list of links on the website of {website.url} - \"\n",
    "    user_prompt += \"please decide which of these are relevant web links for a brochure about the company, respond with the full https URL in JSON format. \\\n",
    "Do not include Terms of Service, Privacy, email links.\\n\"\n",
    "    user_prompt += \"Links (some might be relative links):\\n\"\n",
    "    user_prompt += \"\\n\".join(website.links)\n",
    "    return user_prompt"
   ]
  },
  {
   "cell_type": "code",
   "execution_count": null,
   "id": "6bcbfa78-6395-4685-b92c-22d592050fd7",
   "metadata": {},
   "outputs": [],
   "source": [
    "print(get_links_user_prompt(ed))"
   ]
  },
  {
   "cell_type": "code",
   "execution_count": null,
   "id": "a29aca19-ca13-471c-a4b4-5abbfa813f69",
   "metadata": {},
   "outputs": [],
   "source": [
    "def get_links(url):\n",
    "    website = Website(url)\n",
    "    response = openai.chat.completions.create(\n",
    "        model=MODEL,\n",
    "        messages=[\n",
    "            {\"role\": \"system\", \"content\": link_system_prompt},\n",
    "            {\"role\": \"user\", \"content\": get_links_user_prompt(website)}\n",
    "      ],\n",
    "        response_format={\"type\": \"json_object\"}\n",
    "    )\n",
    "    result = response.choices[0].message.content\n",
    "    return json.loads(result)"
   ]
  },
  {
   "cell_type": "code",
   "execution_count": null,
   "id": "74a827a0-2782-4ae5-b210-4a242a8b4cc2",
   "metadata": {},
   "outputs": [],
   "source": [
    "# Anthropic has made their site harder to scrape, so I'm using HuggingFace..\n",
    "\n",
    "huggingface = Website(\"https://huggingface.co\")\n",
    "huggingface.links"
   ]
  },
  {
   "cell_type": "code",
   "execution_count": null,
   "id": "d3d583e2-dcc4-40cc-9b28-1e8dbf402924",
   "metadata": {},
   "outputs": [],
   "source": [
    "get_links(\"https://huggingface.co\")"
   ]
  },
  {
   "cell_type": "markdown",
   "id": "0d74128e-dfb6-47ec-9549-288b621c838c",
   "metadata": {},
   "source": [
    "## Second step: make the brochure!\n",
    "\n",
    "Assemble all the details into another prompt to GPT4-o"
   ]
  },
  {
   "cell_type": "code",
   "execution_count": null,
   "id": "85a5b6e2-e7ef-44a9-bc7f-59ede71037b5",
   "metadata": {},
   "outputs": [],
   "source": [
    "def get_all_details(url):\n",
    "    result = \"Landing page:\\n\"\n",
    "    result += Website(url).get_contents()\n",
    "    links = get_links(url)\n",
    "    print(\"Found links:\", links)\n",
    "    for link in links[\"links\"]:\n",
    "        result += f\"\\n\\n{link['type']}\\n\"\n",
    "        result += Website(link[\"url\"]).get_contents()\n",
    "    return result"
   ]
  },
  {
   "cell_type": "code",
   "execution_count": null,
   "id": "5099bd14-076d-4745-baf3-dac08d8e5ab2",
   "metadata": {},
   "outputs": [],
   "source": [
    "print(get_all_details(\"https://huggingface.co\"))"
   ]
  },
  {
   "cell_type": "code",
   "execution_count": null,
   "id": "9b863a55-f86c-4e3f-8a79-94e24c1a8cf2",
   "metadata": {},
   "outputs": [],
   "source": [
    "system_prompt = \"You are an assistant that analyzes the contents of several relevant pages from a company website \\\n",
    "and creates a short brochure about the company for prospective customers, investors and recruits. Respond in markdown.\\\n",
    "Include details of company culture, customers and careers/jobs if you have the information.\"\n",
    "\n",
    "# Or uncomment the lines below for a more humorous brochure - this demonstrates how easy it is to incorporate 'tone':\n",
    "\n",
    "# system_prompt = \"You are an assistant that analyzes the contents of several relevant pages from a company website \\\n",
    "# and creates a short humorous, entertaining, jokey brochure about the company for prospective customers, investors and recruits. Respond in markdown.\\\n",
    "# Include details of company culture, customers and careers/jobs if you have the information.\"\n"
   ]
  },
  {
   "cell_type": "code",
   "execution_count": null,
   "id": "6ab83d92-d36b-4ce0-8bcc-5bb4c2f8ff23",
   "metadata": {},
   "outputs": [],
   "source": [
    "def get_brochure_user_prompt(company_name, url):\n",
    "    user_prompt = f\"You are looking at a company called: {company_name}\\n\"\n",
    "    user_prompt += f\"Here are the contents of its landing page and other relevant pages; use this information to build a short brochure of the company in markdown.\\n\"\n",
    "    user_prompt += get_all_details(url)\n",
    "    user_prompt = user_prompt[:5_000] # Truncate if more than 5,000 characters\n",
    "    return user_prompt"
   ]
  },
  {
   "cell_type": "code",
   "execution_count": null,
   "id": "cd909e0b-1312-4ce2-a553-821e795d7572",
   "metadata": {},
   "outputs": [],
   "source": [
    "get_brochure_user_prompt(\"HuggingFace\", \"https://huggingface.co\")"
   ]
  },
  {
   "cell_type": "code",
   "execution_count": null,
   "id": "e44de579-4a1a-4e6a-a510-20ea3e4b8d46",
   "metadata": {},
   "outputs": [],
   "source": [
    "def create_brochure(company_name, url):\n",
    "    response = openai.chat.completions.create(\n",
    "        model=MODEL,\n",
    "        messages=[\n",
    "            {\"role\": \"system\", \"content\": system_prompt},\n",
    "            {\"role\": \"user\", \"content\": get_brochure_user_prompt(company_name, url)}\n",
    "          ],\n",
    "    )\n",
    "    result = response.choices[0].message.content\n",
    "    display(Markdown(result))"
   ]
  },
  {
   "cell_type": "code",
   "execution_count": null,
   "id": "e093444a-9407-42ae-924a-145730591a39",
   "metadata": {},
   "outputs": [],
   "source": [
    "create_brochure(\"HuggingFace\", \"https://huggingface.co\")"
   ]
  },
  {
   "cell_type": "markdown",
   "id": "61eaaab7-0b47-4b29-82d4-75d474ad8d18",
   "metadata": {},
   "source": [
    "## Finally - a minor improvement\n",
    "\n",
    "With a small adjustment, we can change this so that the results stream back from OpenAI,\n",
    "with the familiar typewriter animation"
   ]
  },
  {
   "cell_type": "code",
   "execution_count": null,
   "id": "51db0e49-f261-4137-aabe-92dd601f7725",
   "metadata": {},
   "outputs": [],
   "source": [
    "def stream_brochure(company_name, url):\n",
    "    stream = openai.chat.completions.create(\n",
    "        model=MODEL,\n",
    "        messages=[\n",
    "            {\"role\": \"system\", \"content\": system_prompt},\n",
    "            {\"role\": \"user\", \"content\": get_brochure_user_prompt(company_name, url)}\n",
    "          ],\n",
    "        stream=True\n",
    "    )\n",
    "    \n",
    "    response = \"\"\n",
    "    display_handle = display(Markdown(\"\"), display_id=True)\n",
    "    for chunk in stream:\n",
    "        response += chunk.choices[0].delta.content or ''\n",
    "        response = response.replace(\"```\",\"\").replace(\"markdown\", \"\")\n",
    "        update_display(Markdown(response), display_id=display_handle.display_id)"
   ]
  },
  {
   "cell_type": "code",
   "execution_count": null,
   "id": "56bf0ae3-ee9d-4a72-9cd6-edcac67ceb6d",
   "metadata": {},
   "outputs": [],
   "source": [
    "stream_brochure(\"HuggingFace\", \"https://huggingface.co\")"
   ]
  },
  {
   "cell_type": "code",
   "execution_count": null,
   "id": "fdb3f8d8-a3eb-41c8-b1aa-9f60686a653b",
   "metadata": {},
   "outputs": [],
   "source": [
    "# Try changing the system prompt to the humorous version when you make the Brochure for Hugging Face:\n",
    "\n",
    "stream_brochure(\"HuggingFace\", \"https://huggingface.co\")"
   ]
  },
  {
   "cell_type": "markdown",
   "id": "a27bf9e0-665f-4645-b66b-9725e2a959b5",
   "metadata": {},
   "source": [
    "<table style=\"margin: 0; text-align: left;\">\n",
    "    <tr>\n",
    "        <td style=\"width: 150px; height: 150px; vertical-align: middle;\">\n",
    "            <img src=\"../business.jpg\" width=\"150\" height=\"150\" style=\"display: block;\" />\n",
    "        </td>\n",
    "        <td>\n",
    "            <h2 style=\"color:#181;\">Business applications</h2>\n",
    "            <span style=\"color:#181;\">In this exercise we extended the Day 1 code to make multiple LLM calls, and generate a document.\n",
    "\n",
    "This is perhaps the first example of Agentic AI design patterns, as we combined multiple calls to LLMs. This will feature more in Week 2, and then we will return to Agentic AI in a big way in Week 8 when we build a fully autonomous Agent solution.\n",
    "\n",
    "Generating content in this way is one of the very most common Use Cases. As with summarization, this can be applied to any business vertical. Write marketing content, generate a product tutorial from a spec, create personalized email content, and so much more. Explore how you can apply content generation to your business, and try making yourself a proof-of-concept prototype. See what other students have done in the community-contributions folder -- so many valuable projects -- it's wild!</span>\n",
    "        </td>\n",
    "    </tr>\n",
    "</table>"
   ]
  },
  {
   "cell_type": "markdown",
   "id": "14b2454b-8ef8-4b5c-b928-053a15e0d553",
   "metadata": {},
   "source": [
    "<table style=\"margin: 0; text-align: left;\">\n",
    "    <tr>\n",
    "        <td style=\"width: 150px; height: 150px; vertical-align: middle;\">\n",
    "            <img src=\"../important.jpg\" width=\"150\" height=\"150\" style=\"display: block;\" />\n",
    "        </td>\n",
    "        <td>\n",
    "            <h2 style=\"color:#900;\">Before you move to Week 2 (which is tons of fun)</h2>\n",
    "            <span style=\"color:#900;\">Please see the week1 EXERCISE notebook for your challenge for the end of week 1. This will give you some essential practice working with Frontier APIs, and prepare you well for Week 2.</span>\n",
    "        </td>\n",
    "    </tr>\n",
    "</table>"
   ]
  },
  {
   "cell_type": "markdown",
   "id": "17b64f0f-7d33-4493-985a-033d06e8db08",
   "metadata": {},
   "source": [
    "<table style=\"margin: 0; text-align: left;\">\n",
    "    <tr>\n",
    "        <td style=\"width: 150px; height: 150px; vertical-align: middle;\">\n",
    "            <img src=\"../resources.jpg\" width=\"150\" height=\"150\" style=\"display: block;\" />\n",
    "        </td>\n",
    "        <td>\n",
    "            <h2 style=\"color:#f71;\">A reminder on 3 useful resources</h2>\n",
    "            <span style=\"color:#f71;\">1. The resources for the course are available <a href=\"https://edwarddonner.com/2024/11/13/llm-engineering-resources/\">here.</a><br/>\n",
    "            2. I'm on LinkedIn <a href=\"https://www.linkedin.com/in/eddonner/\">here</a> and I love connecting with people taking the course!<br/>\n",
    "            3. I'm trying out X/Twitter and I'm at <a href=\"https://x.com/edwarddonner\">@edwarddonner<a> and hoping people will teach me how it's done..  \n",
    "            </span>\n",
    "        </td>\n",
    "    </tr>\n",
    "</table>"
   ]
  },
  {
   "cell_type": "markdown",
   "id": "6f48e42e-fa7a-495f-a5d4-26bfc24d60b6",
   "metadata": {},
   "source": [
    "<table style=\"margin: 0; text-align: left;\">\n",
    "    <tr>\n",
    "        <td style=\"width: 150px; height: 150px; vertical-align: middle;\">\n",
    "            <img src=\"../thankyou.jpg\" width=\"150\" height=\"150\" style=\"display: block;\" />\n",
    "        </td>\n",
    "        <td>\n",
    "            <h2 style=\"color:#090;\">Finally! I have a special request for you</h2>\n",
    "            <span style=\"color:#090;\">\n",
    "                My editor tells me that it makes a MASSIVE difference when students rate this course on Udemy - it's one of the main ways that Udemy decides whether to show it to others. If you're able to take a minute to rate this, I'd be so very grateful! And regardless - always please reach out to me at ed@edwarddonner.com if I can help at any point.\n",
    "            </span>\n",
    "        </td>\n",
    "    </tr>\n",
    "</table>"
   ]
  },
  {
   "cell_type": "code",
   "execution_count": null,
   "id": "b8d3e1a1-ba54-4907-97c5-30f89a24775b",
   "metadata": {},
   "outputs": [],
   "source": []
  }
 ],
 "metadata": {
  "kernelspec": {
   "display_name": "Python 3 (ipykernel)",
   "language": "python",
   "name": "python3"
  },
  "language_info": {
   "codemirror_mode": {
    "name": "ipython",
    "version": 3
   },
   "file_extension": ".py",
   "mimetype": "text/x-python",
   "name": "python",
   "nbconvert_exporter": "python",
   "pygments_lexer": "ipython3",
   "version": "3.11.12"
  }
 },
 "nbformat": 4,
 "nbformat_minor": 5
}
